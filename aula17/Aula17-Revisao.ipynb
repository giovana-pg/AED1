{
 "cells": [
  {
   "cell_type": "markdown",
   "id": "73bdc73f-1dd2-4be4-a14a-bc551c8149a1",
   "metadata": {},
   "source": [
    "# Aula 17 - Revisão para Avaliação Final"
   ]
  },
  {
   "cell_type": "markdown",
   "id": "228f0c26-8f4e-406c-94d8-47c06bbb2e5e",
   "metadata": {},
   "source": [
    "### Estrutura de Repetição\n",
    "#### Resolva:\n",
    "Imagine que você é responsável por monitorar o consumo de energia elétrica em uma empresa durante um mês. A empresa deseja saber a média de consumo diário de energia para implementar medidas de eficiência energética. Você recebe uma lista com o consumo diário de energia (em kWh) durante os 30 dias do mês e precisa calcular a média desse consumo. Para isso, você decide escrever um programa em Python que utilize comandos de repetição para somar os consumos diários e, em seguida, calcular a média.\u000b",
    "Esses valores estão em uma lista:\n"
   ]
  },
  {
   "cell_type": "code",
   "execution_count": 1,
   "id": "0c2cf295-b7bc-4beb-8beb-a38cb95ed0fd",
   "metadata": {},
   "outputs": [],
   "source": [
    "consumo_diario = [ 50, 45, 55, 60, 48, 52, 47, 49, 53, 51, 50, 46, 54, 61, 49, 53, 48, 50, 52, 47, 56, 50, 55, 60, 48, 52, 47, 49, 53, 51] "
   ]
  },
  {
   "cell_type": "code",
   "execution_count": 3,
   "id": "470a6c54-bca6-4bd3-93b5-81a11d742292",
   "metadata": {},
   "outputs": [
    {
     "name": "stdout",
     "output_type": "stream",
     "text": [
      "A média do consumo diário é 51.37\n",
      "Soma: 1541  e dividido por 30 é 51.36666666666667\n"
     ]
    }
   ],
   "source": [
    "soma = 0\n",
    "for consumo in consumo_diario:\n",
    "    soma += consumo\n",
    "media = soma / len(consumo_diario)\n",
    "print(f\"A média do consumo diário é {media:.2f}\")\n",
    "print(f\"Soma: {soma}  e dividido por 30 é {soma/30}\")"
   ]
  },
  {
   "attachments": {},
   "cell_type": "markdown",
   "id": "fa2436ba-0233-4ecf-bd07-3de6343711b1",
   "metadata": {},
   "source": [
    "### Listas, Vetores e Matrizes\n",
    "#### Resolva:\r\n",
    "Imagine que você trabalha no departamento de recursos humanos de uma empresa e precisa analisar a produtividade dos funcionários ao longo de uma semana. Você tem uma matriz onde cada linha representa um funcionário e cada coluna representa o número de tarefas completadas em um dia da semana (de segunda a sexta-feira). Seu objetivo é calcular a produtividade semanal de cada funcionário (soma das tarefas completadas durante a semana) e identificar o funcionário mais produtivo.\r\n"
   ]
  },
  {
   "cell_type": "code",
   "execution_count": 4,
   "id": "1135a85b-b107-4cbe-9b53-ce5c14ab42de",
   "metadata": {},
   "outputs": [],
   "source": [
    "produtividade = [ [5, 7, 6, 8, 7],  # Funcionário 1 \n",
    "                  [6, 5, 6, 7, 6],  # Funcionário 2 \n",
    "                  [8, 9, 7, 8, 9],  # Funcionário 3 \n",
    "                  [4, 6, 5, 5, 6],  # Funcionário 4 \n",
    "                  [7, 8, 7, 8, 7] ] # Funcionário 5 "
   ]
  },
  {
   "cell_type": "code",
   "execution_count": 5,
   "id": "80cfaa49-5c8a-4a43-a086-6ed57a9b141f",
   "metadata": {},
   "outputs": [],
   "source": [
    "func = [0, 0, 0, 0, 0]"
   ]
  },
  {
   "cell_type": "code",
   "execution_count": 7,
   "id": "22261fc7-c89b-439e-bf7a-eb48e7ceafa1",
   "metadata": {},
   "outputs": [],
   "source": [
    "f = 0\n",
    "for tarefas in produtividade:\n",
    "    soma = 0\n",
    "    for tarefa in tarefas:\n",
    "        soma += tarefa\n",
    "    func[f] = soma\n",
    "    f += 1       "
   ]
  },
  {
   "cell_type": "code",
   "execution_count": 9,
   "id": "8ab5d9a3-94c6-4e95-944b-a25b81aaf386",
   "metadata": {},
   "outputs": [
    {
     "name": "stdout",
     "output_type": "stream",
     "text": [
      "O 3o. é o mais produtivo com 41 tarefas realizadas\n"
     ]
    }
   ],
   "source": [
    "maior = max(func)\n",
    "funcionario = func.index(maior)+1\n",
    "print(f\"O {funcionario}o. é o mais produtivo com {maior} tarefas realizadas\")"
   ]
  },
  {
   "cell_type": "code",
   "execution_count": 11,
   "id": "6e7db93a-1a6e-458e-a8f0-7d665a1f2d9e",
   "metadata": {},
   "outputs": [
    {
     "name": "stdout",
     "output_type": "stream",
     "text": [
      "O 1o. funcionario produziu 33 tarefas na semana. \n",
      "O 2o. funcionario produziu 30 tarefas na semana. \n",
      "O 3o. funcionario produziu 41 tarefas na semana. (este é o mais produtivo) \n",
      "O 4o. funcionario produziu 26 tarefas na semana. \n",
      "O 5o. funcionario produziu 37 tarefas na semana. \n"
     ]
    }
   ],
   "source": [
    "for i in range(len(func)):\n",
    "    if i == funcionario-1:\n",
    "        print(f\"O {i+1}o. funcionario produziu {func[i]} tarefas na semana. (este é o mais produtivo) \")\n",
    "    else:\n",
    "        print(f\"O {i+1}o. funcionario produziu {func[i]} tarefas na semana. \")"
   ]
  },
  {
   "attachments": {},
   "cell_type": "markdown",
   "id": "91997d00-f78d-43d0-be6b-af80068b0ad4",
   "metadata": {},
   "source": [
    "### Modularização de algoritmos (funções)\n",
    "#### Resolva:\r\n",
    "Imagine que você é um desenvolvedor de software para uma empresa de eventos. A empresa organiza diversos eventos ao longo do ano, e cada evento tem uma lista de participantes. A empresa deseja uma funcionalidade que permita verificar se um determinado participante está inscrito em um evento específico. Você precisa criar uma função que receba a lista de participantes de um evento e o nome de um participante e retorne um valor booleano indicando se o participante está inscrito ou não\r\n"
   ]
  },
  {
   "cell_type": "code",
   "execution_count": 15,
   "id": "c52d791e-a8cb-4ad6-94ca-183b4af71433",
   "metadata": {},
   "outputs": [
    {
     "name": "stdin",
     "output_type": "stream",
     "text": [
      "Digite o nome do participante:  Piva\n"
     ]
    }
   ],
   "source": [
    "participantes_evento = ['Ana', 'Bruno', 'Carlos', 'Diana', 'Eduardo'] \n",
    "nome_participante = input(\"Digite o nome do participante: \")"
   ]
  },
  {
   "cell_type": "code",
   "execution_count": 13,
   "id": "e03f025e-d53a-4983-bfc9-993e3e1b3432",
   "metadata": {},
   "outputs": [],
   "source": [
    "def verificar_participante(participantes, nome):\n",
    "    if nome in participantes:\n",
    "        return True\n",
    "    else:\n",
    "        return False"
   ]
  },
  {
   "cell_type": "code",
   "execution_count": 16,
   "id": "694a14fd-a6bf-4013-914d-dbe9391ef570",
   "metadata": {},
   "outputs": [
    {
     "name": "stdout",
     "output_type": "stream",
     "text": [
      "Piva Não participou do evento!\n"
     ]
    }
   ],
   "source": [
    "# teste da função\n",
    "if verificar_participante(participantes_evento, nome_participante):\n",
    "    print(f\"{nome_participante} participou do evento!\")\n",
    "else:\n",
    "    print(f\"{nome_participante} Não participou do evento!\")"
   ]
  },
  {
   "cell_type": "code",
   "execution_count": null,
   "id": "9bfbfce4-c5fa-4a15-98b4-511d1ee5e506",
   "metadata": {},
   "outputs": [],
   "source": []
  }
 ],
 "metadata": {
  "kernelspec": {
   "display_name": "Python 3 (ipykernel)",
   "language": "python",
   "name": "python3"
  },
  "language_info": {
   "codemirror_mode": {
    "name": "ipython",
    "version": 3
   },
   "file_extension": ".py",
   "mimetype": "text/x-python",
   "name": "python",
   "nbconvert_exporter": "python",
   "pygments_lexer": "ipython3",
   "version": "3.11.9"
  }
 },
 "nbformat": 4,
 "nbformat_minor": 5
}
