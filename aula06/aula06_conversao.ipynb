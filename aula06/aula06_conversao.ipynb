{
 "cells": [
  {
   "cell_type": "code",
   "execution_count": 1,
   "id": "155e4ea9",
   "metadata": {},
   "outputs": [],
   "source": [
    "x = 5\n",
    "y = 5.7\n",
    "z = '67'\n",
    "w = '23.6'"
   ]
  },
  {
   "cell_type": "code",
   "execution_count": 3,
   "id": "92da9f86",
   "metadata": {},
   "outputs": [
    {
     "name": "stdout",
     "output_type": "stream",
     "text": [
      "5\n"
     ]
    }
   ],
   "source": [
    "inteiro = int(y)\n",
    "print(inteiro)"
   ]
  },
  {
   "cell_type": "code",
   "execution_count": 4,
   "id": "11c27dbd",
   "metadata": {},
   "outputs": [
    {
     "name": "stdout",
     "output_type": "stream",
     "text": [
      "5.0\n"
     ]
    }
   ],
   "source": [
    "fracao = float(x)\n",
    "print(fracao)"
   ]
  },
  {
   "cell_type": "code",
   "execution_count": 5,
   "id": "86261750",
   "metadata": {},
   "outputs": [
    {
     "name": "stdout",
     "output_type": "stream",
     "text": [
      "67\n"
     ]
    }
   ],
   "source": [
    "inteiro = int(z)\n",
    "print(inteiro)"
   ]
  },
  {
   "cell_type": "code",
   "execution_count": 7,
   "id": "3ceb9f62",
   "metadata": {},
   "outputs": [
    {
     "name": "stdout",
     "output_type": "stream",
     "text": [
      "6723.6\n"
     ]
    }
   ],
   "source": [
    "soma = z + w\n",
    "print(soma)"
   ]
  },
  {
   "cell_type": "code",
   "execution_count": 8,
   "id": "44a98e57",
   "metadata": {},
   "outputs": [
    {
     "name": "stdout",
     "output_type": "stream",
     "text": [
      "90.6\n"
     ]
    }
   ],
   "source": [
    "soma = int(z) + float(w)\n",
    "print(soma)"
   ]
  },
  {
   "cell_type": "code",
   "execution_count": 15,
   "id": "5addcf64",
   "metadata": {},
   "outputs": [
    {
     "name": "stdout",
     "output_type": "stream",
     "text": [
      "90.6\n",
      "<class 'str'>\n",
      "90.65\n"
     ]
    }
   ],
   "source": [
    "frase = str(soma)\n",
    "print(frase)\n",
    "print(type(frase))\n",
    "print(frase + '5')"
   ]
  },
  {
   "cell_type": "code",
   "execution_count": null,
   "id": "ab873bf7",
   "metadata": {},
   "outputs": [],
   "source": []
  }
 ],
 "metadata": {
  "kernelspec": {
   "display_name": "Python 3 (ipykernel)",
   "language": "python",
   "name": "python3"
  },
  "language_info": {
   "codemirror_mode": {
    "name": "ipython",
    "version": 3
   },
   "file_extension": ".py",
   "mimetype": "text/x-python",
   "name": "python",
   "nbconvert_exporter": "python",
   "pygments_lexer": "ipython3",
   "version": "3.11.5"
  }
 },
 "nbformat": 4,
 "nbformat_minor": 5
}
