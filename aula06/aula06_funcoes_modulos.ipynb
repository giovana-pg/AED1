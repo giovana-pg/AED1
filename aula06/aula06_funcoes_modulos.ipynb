{
 "cells": [
  {
   "cell_type": "code",
   "execution_count": 1,
   "id": "48f21bbd",
   "metadata": {},
   "outputs": [
    {
     "name": "stdout",
     "output_type": "stream",
     "text": [
      "90\n"
     ]
    }
   ],
   "source": [
    "x = -90\n",
    "print(abs(x)) # função módulo, mostrar o valor ABSoluto"
   ]
  },
  {
   "cell_type": "code",
   "execution_count": 2,
   "id": "22c446ed",
   "metadata": {},
   "outputs": [
    {
     "name": "stdout",
     "output_type": "stream",
     "text": [
      "-90\n"
     ]
    }
   ],
   "source": [
    "print(x)"
   ]
  },
  {
   "cell_type": "code",
   "execution_count": 6,
   "id": "f24bd8df",
   "metadata": {},
   "outputs": [
    {
     "name": "stdout",
     "output_type": "stream",
     "text": [
      "A\n",
      "\n",
      "§\n",
      "µ\n"
     ]
    }
   ],
   "source": [
    "print(chr(65)) # converte um número correspondente a um caractere na tabela ASC\n",
    "print(chr(130))\n",
    "print(chr(167))\n",
    "print(chr(181))"
   ]
  },
  {
   "cell_type": "code",
   "execution_count": 7,
   "id": "4db6e4c9",
   "metadata": {},
   "outputs": [
    {
     "name": "stdout",
     "output_type": "stream",
     "text": [
      "65\n"
     ]
    }
   ],
   "source": [
    "print(ord('A')) # converte um caractere em sua posição correspondente na tabela ASC"
   ]
  },
  {
   "cell_type": "code",
   "execution_count": 8,
   "id": "d2ebe53e",
   "metadata": {},
   "outputs": [],
   "source": [
    "import math # importar módulos de funções"
   ]
  },
  {
   "cell_type": "code",
   "execution_count": 9,
   "id": "0d79baf4",
   "metadata": {},
   "outputs": [
    {
     "data": {
      "text/plain": [
       "16.0"
      ]
     },
     "execution_count": 9,
     "metadata": {},
     "output_type": "execute_result"
    }
   ],
   "source": [
    "math.pow(4, 2)"
   ]
  },
  {
   "cell_type": "code",
   "execution_count": 10,
   "id": "899091c4",
   "metadata": {},
   "outputs": [],
   "source": [
    "from math import pow # importa apenas uma função específica, e não o conjunto de funções"
   ]
  },
  {
   "cell_type": "code",
   "execution_count": 11,
   "id": "9586ddbb",
   "metadata": {},
   "outputs": [
    {
     "data": {
      "text/plain": [
       "125.0"
      ]
     },
     "execution_count": 11,
     "metadata": {},
     "output_type": "execute_result"
    }
   ],
   "source": [
    "pow(5,3)"
   ]
  },
  {
   "cell_type": "code",
   "execution_count": 12,
   "id": "3ec299eb",
   "metadata": {},
   "outputs": [],
   "source": [
    "from math import pow, sqrt # pode importar mais de uma função de um mesmo módulo"
   ]
  },
  {
   "cell_type": "code",
   "execution_count": 13,
   "id": "b4d1d97e",
   "metadata": {},
   "outputs": [
    {
     "data": {
      "text/plain": [
       "5.0"
      ]
     },
     "execution_count": 13,
     "metadata": {},
     "output_type": "execute_result"
    }
   ],
   "source": [
    "sqrt(25)"
   ]
  },
  {
   "cell_type": "code",
   "execution_count": null,
   "id": "233824d9",
   "metadata": {},
   "outputs": [],
   "source": []
  }
 ],
 "metadata": {
  "kernelspec": {
   "display_name": "Python 3 (ipykernel)",
   "language": "python",
   "name": "python3"
  },
  "language_info": {
   "codemirror_mode": {
    "name": "ipython",
    "version": 3
   },
   "file_extension": ".py",
   "mimetype": "text/x-python",
   "name": "python",
   "nbconvert_exporter": "python",
   "pygments_lexer": "ipython3",
   "version": "3.11.5"
  }
 },
 "nbformat": 4,
 "nbformat_minor": 5
}
